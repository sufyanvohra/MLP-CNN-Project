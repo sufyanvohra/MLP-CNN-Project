{
  "nbformat": 4,
  "nbformat_minor": 0,
  "metadata": {
    "accelerator": "GPU",
    "colab": {
      "name": "ML_hw3.ipynb",
      "provenance": [],
      "collapsed_sections": [
        "W5qurNR3XkKT",
        "LM4dpplWZBGS",
        "AVlcWIXEZZGO"
      ]
    },
    "kernelspec": {
      "display_name": "Python 3",
      "name": "python3"
    }
  },
  "cells": [
    {
      "cell_type": "markdown",
      "metadata": {
        "id": "KDSS2c_hXISc"
      },
      "source": [
        "**<h1><center>CS 464</center></h1>**\n",
        "**<h1><center>Introduction to Machine Learning</center></h1>**\n",
        "**<h1><center>Fall 2020</center></h1>**\n",
        "**<h1><center>Homework 3</center></h1>**\n",
        "<h4><center>Due: Jan 03, 2021 23:59 (GMT+3)</center></h4>"
      ]
    },
    {
      "cell_type": "markdown",
      "metadata": {
        "id": "W5qurNR3XkKT"
      },
      "source": [
        "### Instructions\n",
        "\n",
        "<ul>\n",
        "    <li>\n",
        "    This homework contains both written and programming questions about neural networks. You should implement programming questions on this notebook. Your plots should also be produced in this notebook. Each programming question has its own cell for your answer. You can implement your code directly in these cells, or you can call required functions which are defined in a different location for the given question.\n",
        "    </li>\n",
        "    <li>\n",
        "    For questions that you need to plot, your plot results have to be included in the cell output. For written questions, you may provide them either as comments in code cells or as seperate text cells. \n",
        "    </li>\n",
        "    <li>\n",
        "    You are <b>NOT ALLOWED</b> to use different libraries than given libraries in the code segments of this homework except for libraries inclueded in Python Standard Library (https://docs.python.org/3/library/).\n",
        "    </li>\n",
        "    <li>\n",
        "    You are <b>NOT ALLOWED</b> to use a different deep learning framework than PyTorch.\n",
        "    </li>\n",
        "    <li>\n",
        "    While submitting the homework file, please package notebook(\".ipynb\") and model (\".pth\") files as a gzipped TAR file or a ZIP file with the name cs464_hw3_section#_Firstname_Lastname. Please do not use any Turkish letters for any of your files including code files and model files. Upload your homework to Moodle.\n",
        "    </li>\n",
        "    <li>\n",
        "    This is an individual assignment for each student. That is, you are NOT allowed to share your work with your classmates.</li>\n",
        "    <li> \n",
        "    If you do not follow the submission routes, deadlines and specifications, it will lead to a significant grade deduction.\n",
        "    </li>\n",
        "    <li> \n",
        "    If you have any questions, please contact \"ilaydabeyreli@gmail.com\" or \"ilayda.beyreli@bilkent.edu.tr\".\n",
        "    </li>\n",
        "\n",
        "</ul>"
      ]
    },
    {
      "cell_type": "markdown",
      "metadata": {
        "id": "9d7BOVodYiGe"
      },
      "source": [
        "## Environment Setup"
      ]
    },
    {
      "cell_type": "markdown",
      "metadata": {
        "id": "EPlCx2GsYnHS"
      },
      "source": [
        "This homewrok is prepeared by using Google CoLab which already has required libraries. However, if you are using your own local Jupyter or any other Python notebook editor, you may use both anaconda or pip to install PyTorch to your own computer."
      ]
    },
    {
      "cell_type": "markdown",
      "metadata": {
        "id": "LM4dpplWZBGS"
      },
      "source": [
        "### Anaconda Installation\n",
        "\n",
        "<ul>\n",
        "    <li>Download anaconda from https://www.anaconda.com/download</li>\n",
        "    <li>Follow the instructions provided in https://conda.io/docs/user-guide/install/index.html#regular-installation</li>\n",
        "</ul>\n",
        "\n",
        "#### Creation of Virtual Environment\n",
        "\n",
        "<ul>\n",
        "    <li>Create python3.7 virtual environment for your hw3 using follow command from the command line<br>\n",
        "        <i>> conda create -n HW3 python=3.7 anaconda</i></li>\n",
        "    <li>Activate your virtual environment<br>\n",
        "        <i>> source activate HW3</i></li>\n",
        "    <li>To install auxiliary libraries, replace the \"package_name\" in the following command and run it in activated \"hw3\" environment <br>\n",
        "        <i>> pip install \"pacakge_name\"<i></li>\n",
        "     <li>When you create your virtual environment with \"anaconda\" metapackage, jupyter notebook should be installed. Try:<br>\n",
        "         <i>> jupyter notebook</i>\n",
        "</ul>\n",
        "\n",
        "\n",
        "#### Pytorch Installation with Anaconda\n",
        "\n",
        "You should install PyTorch to your virtual environment which is created for the hw3. Therefore, you should activate your homework virtual environment before to start PyTorch installation.\n",
        "<li>> source activate HW3</li>\n",
        "\n",
        "After you have activated the virtual environment, then use one of the following commands to install pytorch for CPU for your system. See https://pytorch.org/ for help.\n",
        "<ul>\n",
        "<li>For MacOS:<br>\n",
        "    <i>> conda install pytorch torchvision -c pytorch</i>\n",
        "</li>\n",
        "<li>For Linux:<br>\n",
        "    <i>> conda install pytorch-cpu torchvision-cpu -c pytorch</i>\n",
        "</li>\n",
        "<li>For Windows:<br>\n",
        "    <i>> conda install pytorch-cpu torchvision-cpu -c pytorch</i><br>\n",
        "</li>"
      ]
    },
    {
      "cell_type": "markdown",
      "metadata": {
        "id": "AVlcWIXEZZGO"
      },
      "source": [
        "###Pip3 Installation\n",
        "<ul>\n",
        "    <li>Download pip3 from https://pip.pypa.io/en/stable/installing/</li>\n",
        "    <li>If you are using Windows, you may need to add Python to your enviroment variables. You may use the following tutorial to install Python and pip.\n",
        "    https://phoenixnap.com/kb/how-to-install-python-3-windows</li>\n",
        "</ul>\n",
        "\n",
        "#### PyTorch Installation with Pip\n",
        "<ul>\n",
        "<li>For MacOS:<br>\n",
        "    <i>> pip3 install torch torchvision</i>\n",
        "</li>\n",
        "<li>For Linux:<br>\n",
        "    <i>> pip3 install torch==1.3.1+cpu torchvision==0.4.2+cpu -f https://download.pytorch.org/whl/torch_stable.html</i>\n",
        "</li>\n",
        "<li>For Windows:<br>\n",
        "    <i>> pip3 install torch==1.3.1+cpu torchvision==0.4.2+cpu -f https://download.pytorch.org/whl/torch_stable.html</i><br>\n",
        "</li>\n"
      ]
    },
    {
      "cell_type": "markdown",
      "metadata": {
        "id": "I0CsUtpmZmBk"
      },
      "source": [
        "##Question 1 [12 pts.]\n",
        "\n",
        "Answer the given questions with **at most a sentence**.\n",
        "\n",
        "  >a) What is one reason not to use the same data for both your training set and your testing set?<br>\n",
        "\n",
        "  >b) Why is it important for machine learning algorithms to have access to high-quality(large and accurate enough) data ?<br>\n",
        "\n",
        "  >c) What is the main motivation for using activation functions in artificial neural networks (ANNs)?<br>\n",
        "\n",
        "  >d) The activations for class A, B and C before softmax were 12, 7 and 4. What would be the softmax values for class A and class B?<br>\n",
        "\n",
        "  >e) What does it mean to underfit your data model?<br>\n",
        "\n",
        "  >f) Consider you have a 14 class classification problem. What would be the probability of random guess?<br>\n",
        "\n",
        "\n"
      ]
    },
    {
      "cell_type": "markdown",
      "metadata": {
        "id": "CrkNYtLYqfP0"
      },
      "source": [
        "a) The reason is: that one might change the layers or manipuate the weights to get better accuracies for data. But after this the data might be overfitting and will not be suitable for unknown data.\r\n",
        "\r\n",
        "b) High Quality accurate data , will help predict the required class accurately so that it can be efficient also on varied data.\r\n",
        "\r\n",
        "c) Activation functions are important so that model can learn complex patterns in the data.\r\n",
        "\r\n",
        "d) For class A: 12 and for class B = 7\r\n",
        "\r\n",
        "e) Undefitting means that the model doesnt accurately model the trained data, and nor can it model the unknown data.\r\n",
        "\r\n",
        "f) Probability  = 1/14"
      ]
    },
    {
      "cell_type": "markdown",
      "metadata": {
        "id": "fnAVhRr4eTPo"
      },
      "source": [
        "##Question 2 [88 pts.]"
      ]
    },
    {
      "cell_type": "markdown",
      "metadata": {
        "id": "GnaXgIskP6iY"
      },
      "source": [
        "Computer vision (CV) is the field of study that deals with how computers can gain high-level understanding from digital images or videos. Your task for this question is to classify cats according to their breeds by using simple machine learning algorithms developed for CV problems on cat images.\n",
        "\n",
        "Your dataset consist of cat images from 13 breeds. Images of each breed is stored under separate folders in the compressed file given to you.  The dataset has been processed in such a way that each class has approximately 1900 samples.\n",
        "\n",
        "Download the dataset from the following link:\n",
        "<br>\n",
        "https://drive.google.com/.....\n",
        "<br>\n",
        "\n",
        "Libraries that are required in this question is given in the following code cell."
      ]
    },
    {
      "cell_type": "code",
      "metadata": {
        "colab": {
          "base_uri": "https://localhost:8080/"
        },
        "id": "Z37KSYkSXHtz",
        "outputId": "701ab347-fede-4061-b83c-6dae3279b93d"
      },
      "source": [
        "# Mount Google Drive\n",
        "from google.colab import drive\n",
        "drive.mount('/content/drive')\n",
        "# PyTorch\n",
        "import torch\n",
        "import torch.nn as nn\n",
        "import torch.nn.functional as F\n",
        "# To Read Data\n",
        "from torch.utils.data import Dataset, DataLoader\n",
        "import numpy as np\n",
        "from PIL import Image\n",
        "# To Interpret results & obtain plots\n",
        "from sklearn.model_selection import train_test_split\n",
        "from sklearn.metrics import confusion_matrix, f1_score, precision_score, recall_score, accuracy_score\n",
        "import matplotlib.pyplot as plt\n",
        "from zipfile import ZipFile\n",
        "import pandas as pd\n",
        "import os, os.path\n",
        "from sklearn.utils import shuffle\n",
        "import cv2\n",
        "import time\n",
        "\n",
        "\n",
        "zf = ZipFile('/content/drive/MyDrive/cs464_hw3.zip','r')\n",
        "zf.extractall()\n",
        "zf.close()\n",
        "\n",
        "# You could add your own libraries form Python Standard Library in this cell. Any other external libraries are not allowed."
      ],
      "execution_count": 1,
      "outputs": [
        {
          "output_type": "stream",
          "text": [
            "Mounted at /content/drive\n"
          ],
          "name": "stdout"
        }
      ]
    },
    {
      "cell_type": "markdown",
      "metadata": {
        "id": "Kkd-WIVwTQsn"
      },
      "source": [
        "### Data Loader [8 pts.]\n",
        "\n",
        "> Indented block\n",
        "\n",
        "\n",
        "\n",
        "An important part of such a task is to implement your own data loader. In this homework, a partial loader is provided to you. This loader is going to be based on a base class named \"Dataset\", provided in PyTorch library. You need to complete the code below to create your custom \"CatsDataset\" class which will be able to load your dataset. Implement the functions whose proptotypes are given. Follow the TODO notes below. You have to divide the files into three sets as <b>train (70%)</b>, \n",
        "<b>validation (10%)</b> and **test (20%)** sets.  These non-overlapping splits, which are subsets of CatsDataset, should be retrieved using the \"get_dataset\" function. Since this data loader will be called to get the input for different models, your function should work in a least two modes:\n",
        "1. To be compatible with MLP, you need to resize the image to 64x64x3 to have consistent input size for all images. Then, you should convert your image to grayscale and flatten it into a vector. Note that the pixel values also needs to be normalized to [0,1] range.\n",
        "<br>\n",
        "2. To be compatible with CNN, you need to resize the image to 64x64x3 to have consistent input size for all images. Note that, you **should not** flatten the image or convert it to grayscale in this mode, i.e. all channels of the images should be included and each image should be stored as a matrix.\n",
        "\n",
        "Hint: The dataset is not normalized and your results will heavily depend on your input."
      ]
    },
    {
      "cell_type": "code",
      "metadata": {
        "id": "x9fac_LpYdXE"
      },
      "source": [
        "class CatsDataset(Dataset):\n",
        "    # TODO:\n",
        "    # Define constructor for SVHNDataset class\n",
        "    # HINT: You can pass processed data samples and their ground truth values as parameters \n",
        "    def __init__(self, dataset,labels): # you are free to change parameters\n",
        "        self.dataset = torch.FloatTensor((dataset).astype('float')).cuda()\n",
        "        self.labels = torch.FloatTensor(labels.astype('float')).cuda()\n",
        "    '''This function should return sample count in the dataset'''\n",
        "    def __len__(self):\n",
        "        return self.dataset.shape[0]\n",
        "\n",
        "    '''This function should return a single sample and its ground truth value from the dataset corresponding to index parameter '''\n",
        "    def __getitem__(self, index):\n",
        "        return self.dataset[index,:], self.labels[index]\n"
      ],
      "execution_count": 2,
      "outputs": []
    },
    {
      "cell_type": "code",
      "metadata": {
        "id": "vE3b0p2IWrdo"
      },
      "source": [
        "def convert_d(data):\n",
        "  text = {}\n",
        "  def convert(val):\n",
        "      return text[val]\n",
        "  # if data.dtype != np.int32 and data.dtype != np.float32:\n",
        "  contents = data.tolist()\n",
        "  elements = set(contents)\n",
        "  x = 0\n",
        "  for unique in elements:\n",
        "      if unique not in text:\n",
        "          text[unique] = x\n",
        "          x+=1\n",
        "  data = list(map(convert, data))\n",
        "  return data \n",
        "\n",
        "def get_dataset(root, mode):\n",
        "\n",
        "  # TODO: \n",
        "  # Read dataset files\n",
        "  # Resize images as 64x64 so that you have consistent data. You can use img.resize((64,64)) from PIL.Image.\n",
        "  # Construct training, validation and test sets\n",
        "  # Normalize datasets\n",
        "  imgss = np.zeros((24523,64,64,3))\n",
        "  imgss2 = np.zeros((24523,4096))\n",
        "  h = 0\n",
        "  if mode == 1:\n",
        "    labels = []\n",
        "    root_dir = root\n",
        "    for f in os.listdir(root_dir):\n",
        "      for folder in os.listdir(os.path.join(root_dir,f)):\n",
        "        c =(os.path.join(root_dir,f))\n",
        "        im = np.array((Image.open(os.path.join(c,folder))))\n",
        "        im = cv2.resize(im,(64,64))\n",
        "        if im.ndim == 3:\n",
        "          im = cv2.cvtColor(im, cv2.COLOR_BGR2GRAY)\n",
        "        im = im.flatten().reshape(4096,)\n",
        "        imgss2[h,:] = im/255\n",
        "        labels.append(f)\n",
        "        h = h + 1\n",
        "  else:  \n",
        "    labels = []\n",
        "    root_dir = root\n",
        "    for f in os.listdir(root_dir):\n",
        "      for folder in os.listdir(os.path.join(root_dir,f)):\n",
        "        c =(os.path.join(root_dir,f))\n",
        "        im = np.array((Image.open(os.path.join(c,folder))))\n",
        "        im = cv2.resize(im,(64,64))\n",
        "        if im.ndim == 2:\n",
        "          width, height = im.shape\n",
        "          out = np.empty((width, height, 3), dtype=np.uint8)\n",
        "          out[:, :, 0] = im\n",
        "          out[:, :, 1] = im\n",
        "          out[:, :, 2] = im\n",
        "          im = out \n",
        "        labels.append(f)\n",
        "        imgss[h,:,:,:] = im/255\n",
        "        h = h + 1\n",
        "\n",
        "  labels = np.array(convert_d(np.array(labels)))\n",
        "  if mode == 1:\n",
        "    img = np.array(imgss2)\n",
        "  else:\n",
        "    img = np.array(imgss)\n",
        "\n",
        "  img,labels =  shuffle(img,labels) \n",
        "\n",
        "  return (img), (labels)"
      ],
      "execution_count": 3,
      "outputs": []
    },
    {
      "cell_type": "markdown",
      "metadata": {
        "id": "iz1yad18Yo7m"
      },
      "source": [
        "###Model Implementations [10 pts.]"
      ]
    },
    {
      "cell_type": "markdown",
      "metadata": {
        "id": "xhv_2w2oZVcL"
      },
      "source": [
        "#### Multi Layer Perceptron [5 pts.]\n",
        "Now, implement your three layer neural network. (Input+hidden1+hidden2) FNet class will represent your neural network. The first hidden layer will contain 2048 neurons, and the second will have 1024 neurons. You will decide the number of input and output neurons. Use ReLU as your hidden layer activation function. You need to pick a proper activation function for the output layer."
      ]
    },
    {
      "cell_type": "code",
      "metadata": {
        "id": "kLbnCwuvYy1N"
      },
      "source": [
        "import torch.nn as nn\n",
        "import torch.nn.functional\n",
        "class FNet(nn.Module):\n",
        "    '''Define your neural network'''\n",
        "    def __init__(self, inputS, outputS): \n",
        "    # you can add any additional parameters you want \n",
        "    # TODO:\n",
        "    # You should create your neural network here\n",
        "      super(FNet, self).__init__()\n",
        "      self.hidden1 = 2048\n",
        "      self.hidden2 = 1024\n",
        "      self.input = inputS\n",
        "      self.outputS = outputS\n",
        "      self.hidden_layer1 = nn.Linear(self.input, self.hidden1)\n",
        "      self.hidden_layer2 = nn.Linear(self.hidden1, self.hidden2)\n",
        "      self.output = nn.Linear(self.hidden2, self.outputS)\n",
        "    def forward(self, x): \n",
        "    # you can add any additional parameters you want\n",
        "    # TODO:\n",
        "    # Forward propagation implementation should be here\n",
        "      x = F.relu(self.hidden_layer1(x))\n",
        "      x = F.relu(self.hidden_layer2(x))\n",
        "\n",
        "      return torch.softmax(self.output(x),dim = 1) # Apply loss function\n"
      ],
      "execution_count": 6,
      "outputs": []
    },
    {
      "cell_type": "markdown",
      "metadata": {
        "id": "wFVQay-2Z7Ix"
      },
      "source": [
        "#### Convolutional Neural Network [5 pts]\n",
        "\n",
        "Now implement your CNN. ConvNet class will represent your convolutional neural network. Implement 4 layers of convolution: \n",
        "<ul>\n",
        "    <li>(1) 8 filters with size of 3 x 3 with stride 1 and no padding, (2) ReLU </li>\n",
        "    <li>(3) 16 filters with size of 3 x 3 with stride 1 and no padding, (4) ReLU and (5) MaxPool 2 x 2 </li>\n",
        "    <li>(6) 32 filters with size of 5 x 5 with stride 1 and padding 1, (7) ReLU and (8) MaxPool 2 x 2 </li> \n",
        "    <li>(9) 32 filters with size of 5 x 5 with stride 1 and padding 1, (10) ReLU and (11) MaxPool 2 x 2 </li> \n",
        "</ul>\n",
        "\n",
        "As the classifier layer, you need to add only one linear layer at the end of the network. You need to choose the appropriate input and output neuron sizes and the activation function for the dense layer."
      ]
    },
    {
      "cell_type": "code",
      "metadata": {
        "id": "lNnoeEy-aGA3"
      },
      "source": [
        "class ConvNet(nn.Module):\n",
        "    '''Define your neural network'''\n",
        "    def __init__(self): # you can add any additional parameters you want \n",
        "    # TODO:\n",
        "    # You should create your neural network here\n",
        "      super(ConvNet, self).__init__()\n",
        "      self.conv1 = nn.Conv2d(in_channels=3,out_channels=8,stride=1,padding=0,kernel_size=3)\n",
        "      self.conv2 = nn.Conv2d(in_channels=8,out_channels=16,stride=1,padding=0,kernel_size=3)\n",
        "      self.conv3 = nn.Conv2d(in_channels=16,out_channels=32,stride=1,padding=0,kernel_size=5)\n",
        "      self.conv4 = nn.Conv2d(in_channels=32,out_channels=32,stride=1,padding=0,kernel_size=5)\n",
        "      self.maxpool = nn.MaxPool2d(2)\n",
        "\n",
        "      self.fc2 = nn.Linear(512,256)\n",
        "      self.fc = nn.Linear(256,13)\n",
        "\n",
        "    def forward(self, x): # you 6an add any additional parameters you want\n",
        "    # TODO:\n",
        "    # Forward propagation implementation should be here\n",
        "      x = F.relu(((self.conv1(x))))\n",
        "      x = F.relu(self.maxpool(self.conv2(x)))\n",
        "      x = F.relu(self.maxpool(self.conv3(x)))\n",
        "      x = F.relu(self.maxpool(self.conv4(x)))\n",
        "      x = torch.flatten(x,start_dim=1)\n",
        "      x = self.fc2(x)\n",
        "      x = self.fc(x)\n",
        "\n",
        "      return torch.softmax((x),dim = 1) # Apply loss function\n"
      ],
      "execution_count": 5,
      "outputs": []
    },
    {
      "cell_type": "markdown",
      "metadata": {
        "id": "s4HT9fvm_jgX"
      },
      "source": [
        "\r\n",
        "\r\n",
        "\r\n",
        "\r\n",
        "\r\n",
        "\r\n",
        "\r\n",
        "\r\n",
        "\r\n",
        "\r\n",
        "\r\n",
        "\r\n",
        "\r\n",
        "\r\n",
        "\r\n",
        "\r\n",
        "\r\n",
        "\r\n",
        "\r\n",
        "\r\n",
        "\r\n",
        "\r\n",
        "\r\n",
        "\r\n",
        "\r\n",
        "\r\n",
        "\r\n",
        "\r\n",
        "\r\n",
        "\r\n",
        "\r\n",
        "\r\n",
        "\r\n",
        "\r\n",
        "\r\n",
        "\r\n",
        "\r\n",
        "\r\n",
        "\r\n",
        "\r\n",
        "\r\n",
        "\r\n",
        "\r\n",
        "\r\n",
        "\r\n",
        "\r\n",
        "\r\n",
        "\r\n",
        "\r\n",
        "\r\n",
        "\r\n",
        "\r\n",
        "\r\n",
        "\r\n",
        "\r\n",
        "\r\n",
        "\r\n",
        "\r\n",
        "\r\n",
        "\r\n",
        "\r\n",
        "\r\n",
        "\r\n",
        "\r\n",
        "\r\n",
        "\r\n",
        "\r\n",
        "\r\n",
        "\r\n",
        "\r\n",
        "\r\n",
        "\r\n",
        "\r\n",
        "\r\n",
        "\r\n",
        "\r\n",
        "\r\n",
        "\r\n",
        "\r\n",
        "\r\n",
        "\r\n",
        "\r\n",
        "\r\n",
        "\r\n",
        "\r\n",
        "\r\n",
        "\r\n",
        "\r\n",
        "\r\n",
        "\r\n",
        "\r\n",
        "\r\n",
        "\r\n",
        "\r\n",
        "\r\n",
        "\r\n",
        "\r\n",
        "\r\n",
        "\r\n",
        "\r\n",
        "\r\n",
        "\r\n",
        "\r\n",
        "###Stochastic Gradient Descent [35 pts.]"
      ]
    },
    {
      "cell_type": "markdown",
      "metadata": {
        "id": "ZJO7J4sf7YGZ"
      },
      "source": [
        "####Training with SGD [20 pts.]\r\n",
        "\r\n",
        "Train both models up to 700 epochs with properly processed inputs, i.e. call your \"get_dataset\" function in mode \"1\" for MLP and mode \"2\" for CNN. Use SGD as your optimizer. Tune your learning rate, weight decay. Take momentum as $0$ Save your best models, i.e. MLP and CNN models with highest performance, as \"best_mlp_sgd.pth\" and \"best_cnn_sgd.pth\". The best model decision is up to you. You could use any measurement and/or metric to decide on the best model for each network. However, you must explain your reasoning in your choice.\r\n",
        "\r\n",
        "During training, you need to plot two figures for each model:\r\n",
        "1. training loss and validation loss vs. epoch\r\n",
        "2. validation acuracy and validation accuracy vs. epoch <br>\r\n",
        "\r\n",
        "Name your axes and plots properly."
      ]
    },
    {
      "cell_type": "markdown",
      "metadata": {
        "id": "ZYWIm6jDwlD5"
      },
      "source": [
        " #########################################################################\r\n",
        " Ans)\r\n",
        "I chose the Loss function because, loss function tells how good  model does in terms of predicting expected outcome. Furhter the loss functions reduces the error in prediction. i.e, the lesser the loss the better the model. and will least loss we will also get higher accuracies.\r\n",
        "\r\n",
        "Least loss is used to check the best models for every model.\r\n",
        "\r\n"
      ]
    },
    {
      "cell_type": "code",
      "metadata": {
        "colab": {
          "base_uri": "https://localhost:8080/",
          "height": 530
        },
        "id": "28Zs63u-CQn9",
        "outputId": "b2213b9f-ca3d-414a-a1e1-9928693fceef"
      },
      "source": [
        "# #@title Default title text\n",
        "# # HINT: note that your training time should not take many days.\n",
        "\n",
        "\n",
        "# # TODO:\n",
        "# # Pick your hyper parameters\n",
        "max_epoch = 700\n",
        "train_batch = 50\n",
        "test_batch = 100\n",
        "learning_rate = 0.005\n",
        "\n",
        "\n",
        "use_gpu = torch.cuda.is_available()\n",
        "\n",
        "imgs2, labels2 = get_dataset(\"data\", 1)\n",
        "len = np.array(labels2).shape[0]\n",
        "\n",
        "# Create train dataset loader\n",
        "train_dataset_MLP = CatsDataset(dataset = imgs2[0:int(len*0.7)],labels =labels2[0:int(len*0.7)])\n",
        "trainloader_MLP = DataLoader(train_dataset_MLP, batch_size=train_batch)\n",
        "# Create validation dataset loader\n",
        "val_dataset_MLP = CatsDataset(dataset = imgs2[int(len*0.7):int(len*0.8)],labels = labels2[int(len*0.7):int(len*0.8)])\n",
        "valloader_MLP = DataLoader(val_dataset_MLP, batch_size=test_batch)\n",
        "# Create test dataset loader\n",
        "test_dataset_MLP = CatsDataset(imgs2[int(len*0.8):],labels2[int(len*0.8):])\n",
        "test_load_MLP = DataLoader(test_dataset_MLP, batch_size = test_batch )\n",
        "# initialize your network\n",
        "\n",
        "model = FNet(4096,13) \n",
        "if use_gpu:\n",
        "  model.cuda()\n",
        "\n",
        "# define your loss function\n",
        "\n",
        "criterion = nn.MSELoss()   \n",
        "optimizer = torch.optim.SGD(model.parameters(), lr=learning_rate,momentum=0, weight_decay=1e-04) # you can play with  weight_decay as well\n",
        "    \n",
        "len1 = train_dataset_MLP.__len__()\n",
        "len2 = val_dataset_MLP.__len__()\n",
        "\n",
        "least_loss = 100\n",
        "loss_train = np.zeros(max_epoch) \n",
        "loss_valid = np.zeros(max_epoch)\n",
        "acc_train = np.zeros(max_epoch)\n",
        "acc_validation = np.zeros(max_epoch)\n",
        "\n",
        "\n",
        "for epoch in range(max_epoch):\n",
        "    model = model.train()\n",
        "    j=0\n",
        "    foo_loss2 = np.zeros((len1,1))\n",
        "    pred_label= np.zeros((len1,1))\n",
        "    real_label = np.zeros((len1,1))\n",
        "\n",
        "    for batch_idx, (data, labels) in enumerate(trainloader_MLP):\n",
        "        # TODO:\n",
        "        # Implement training code for a one iteration\n",
        "        if use_gpu:\n",
        "          data = data.cuda()\n",
        "        optimizer.zero_grad()\n",
        "        y_pred = model(data)\n",
        "        one_hot = torch.nn.functional.one_hot(labels.to(torch.int64),13)  \n",
        "        loss  = criterion(y_pred, one_hot.to(torch.float))\n",
        "\n",
        "        loss.backward()\n",
        "        optimizer.step()\n",
        "        predicted = np.array((y_pred).cpu().detach())\n",
        "        pred_foo = []\n",
        "\n",
        "        for row in (predicted):\n",
        "          row = np.array(row)\n",
        "          pred_foo.append(np.argmax(np.array(row)))  \n",
        "\n",
        "        actual_l = np.array(labels[:].unsqueeze(1).cpu().detach())\n",
        "        pred_label[j*train_batch:(j+1)*train_batch,0] = pred_foo[:]\n",
        "        real_label[j*train_batch:(j+1)*train_batch] = actual_l[:]\n",
        "        foo_loss2[j*train_batch:(j+1)*train_batch] = np.array(criterion(y_pred, one_hot.to(torch.float)).cpu().detach())\n",
        "        j=j+1 \n",
        "\n",
        "    acc = (np.sum(real_label[:] == pred_label[:])*100)/len1\n",
        "    model = model.eval()\n",
        "\n",
        "    # Validation Testing\n",
        "    i=0\n",
        "    criterions = nn.MSELoss()   \n",
        "    foo_loss = np.zeros(len2)\n",
        "    pred_label2 =np.zeros((len2,1))\n",
        "    real_label_B = np.zeros((len2,1))\n",
        "    with torch.no_grad():\n",
        "        for batch_idx, (data, labels) in enumerate(valloader_MLP):\n",
        "            # TODO:\n",
        "            # Implement test code\n",
        "            y_pred2 = model(data)\n",
        "            predicted2 = np.array((y_pred2).cpu().detach())\n",
        "            one_hot = torch.nn.functional.one_hot(labels.to(torch.int64),13)  \n",
        "            pred_foo2 = []\n",
        "\n",
        "            for row in (predicted2):\n",
        "              row = np.array(row)\n",
        "              pred_foo2.append(np.argmax(np.array(row)))  \n",
        "\n",
        "            real_l = np.array(labels[:].unsqueeze(1).cpu().detach())\n",
        "            pred_label2[i*test_batch:(i+1)*test_batch,0] = np.array(pred_foo2)\n",
        "            real_label_B[i*test_batch:(i+1)*test_batch] = real_l[:]\n",
        "            foo_loss[i*test_batch:(i+1)*test_batch] = np.array(criterions(y_pred2, one_hot.to(torch.float)).cpu().detach())\n",
        "            i = i + 1\n",
        "\n",
        "        acc2 = (np.sum(real_label_B[:] == pred_label2[:])*100)/len2\n",
        " \n",
        "\n",
        "    #Trains \n",
        "     \n",
        "    loss_train[epoch] = np.mean(foo_loss2)\n",
        "    loss_valid[epoch] = np.mean(foo_loss)\n",
        "\n",
        "    acc_train[epoch] = acc\n",
        "    acc_validation[epoch] = acc2\n",
        "\n",
        "    if least_loss > loss_valid[epoch]:\n",
        "      best_acc = acc2\n",
        "      least_loss = loss_valid[epoch]\n",
        "      best_model = model\n",
        "\n",
        "torch.save(best_model, 'best_mlp_sgd.pth')\n",
        "    \n",
        "    \n",
        "# plot losses vs epoch \n",
        "\n",
        "plt.figure()\n",
        "plt.plot(range(1,max_epoch+1),loss_train , label='training loss')\n",
        "plt.plot(range(1,max_epoch+1),loss_valid, label = 'validation loss')\n",
        "plt.legend(loc=\"upper left\")\n",
        "\n",
        "# plot accuracies vs epoch\n",
        "\n",
        "plt.figure()\n",
        "plt.plot(range(1,max_epoch+1),acc_train, label='training Acc')\n",
        "plt.plot(range(1,max_epoch+1),acc_validation, label = 'validation Acc')\n",
        "plt.legend(loc=\"upper left\")\n",
        "\n"
      ],
      "execution_count": 7,
      "outputs": [
        {
          "output_type": "execute_result",
          "data": {
            "text/plain": [
              "<matplotlib.legend.Legend at 0x7f5e6b398a90>"
            ]
          },
          "metadata": {
            "tags": []
          },
          "execution_count": 7
        },
        {
          "output_type": "display_data",
          "data": {
            "image/png": "[encoded data removed]",
            "text/plain": [
              "<Figure size 432x288 with 1 Axes>"
            ]
          },
          "metadata": {
            "tags": [],
            "needs_background": "light"
          }
        },
        {
          "output_type": "display_data",
          "data": {
            "image/png": "[encoded data removed]",
            "text/plain": [
              "<Figure size 432x288 with 1 Axes>"
            ]
          },
          "metadata": {
            "tags": [],
            "needs_background": "light"
          }
        }
      ]
    },
    {
      "cell_type": "code",
      "metadata": {
        "colab": {
          "base_uri": "https://localhost:8080/",
          "height": 530
        },
        "id": "S4VU9L1jCNCC",
        "outputId": "11bef95a-763b-467f-8081-e9f9188c3336"
      },
      "source": [
        "# HINT: note that your training time should not take many days.\r\n",
        "\r\n",
        "# TODO:\r\n",
        "# Pick your hyper parameters\r\n",
        "max_epoch = 700\r\n",
        "train_batch = 50\r\n",
        "test_batch = 100\r\n",
        "learning_rate = 0.005\r\n",
        "\r\n",
        "\r\n",
        "use_gpu = torch.cuda.is_available()\r\n",
        "\r\n",
        "imgs2, labels2 = get_dataset(\"data\", 2)\r\n",
        "len = np.array(labels2).shape[0]\r\n",
        "\r\n",
        "# Create train dataset loader\r\n",
        "train_dataset_L = CatsDataset(dataset = imgs2[0:int(len*0.7)],labels =labels2[0:int(len*0.7)])\r\n",
        "trainloader = DataLoader(train_dataset_L, batch_size=train_batch)\r\n",
        "\r\n",
        "# Create validation dataset loader\r\n",
        "val_dataset_L = CatsDataset(dataset = imgs2[int(len*0.7):int(len*0.8)],labels = labels2[int(len*0.7):int(len*0.8)])\r\n",
        "valloader = DataLoader(val_dataset_L, batch_size=test_batch)\r\n",
        "# Create test dataset loader\r\n",
        "test_dataset_L = CatsDataset(imgs2[int(len*0.8):],labels2[int(len*0.8):])\r\n",
        "teat_load = DataLoader(test_dataset_L, batch_size=test_batch)\r\n",
        "\r\n",
        "model = ConvNet()\r\n",
        "if use_gpu:\r\n",
        "  model.cuda()\r\n",
        "\r\n",
        "# # define your loss function\r\n",
        "criterion = nn.MSELoss()   \r\n",
        "optimizer = torch.optim.SGD(model.parameters(), lr=learning_rate, weight_decay=1e-04) # you can play with  weight_decay as well\r\n",
        "\r\n",
        "len1 = train_dataset_L.__len__()\r\n",
        "len2 = val_dataset_L.__len__()\r\n",
        "\r\n",
        "least_loss = 100\r\n",
        "loss_train = np.zeros(max_epoch) \r\n",
        "loss_valid = np.zeros(max_epoch)\r\n",
        "acc_train = np.zeros(max_epoch)\r\n",
        "acc_validation = np.zeros(max_epoch)\r\n",
        "\r\n",
        "for epoch in range(max_epoch):\r\n",
        "    model = model.train()\r\n",
        "    j=0\r\n",
        "    foo_loss2 = np.zeros((len1,1))\r\n",
        "    pred_label= np.zeros((len1,1))\r\n",
        "    real_label = np.zeros((len1,1))\r\n",
        "\r\n",
        "    for batch_idx, (data, labels) in enumerate(trainloader):\r\n",
        "        # TODO:\r\n",
        "        # Implement training code for a one iteration\r\n",
        "        if use_gpu:\r\n",
        "          data = data.cuda()\r\n",
        "        optimizer.zero_grad()\r\n",
        "        y_pred = model(data.permute(0,3,1,2))\r\n",
        "        one_hot = torch.nn.functional.one_hot(labels.to(torch.int64),13)  \r\n",
        "        loss  = criterion(y_pred, one_hot.to(torch.float))\r\n",
        "        loss.backward()\r\n",
        "        optimizer.step()\r\n",
        "        predicted = np.array((y_pred).cpu().detach())\r\n",
        "        pred_foo = []\r\n",
        "\r\n",
        "        for row in (predicted):\r\n",
        "          row = np.array(row)\r\n",
        "          pred_foo.append(np.argmax(np.array(row)))  \r\n",
        "\r\n",
        "        actual_l = np.array(labels[:].unsqueeze(1).cpu().detach())\r\n",
        "        pred_label[j*train_batch:(j+1)*train_batch,0] = pred_foo[:]\r\n",
        "        real_label[j*train_batch:(j+1)*train_batch] = actual_l[:]\r\n",
        "        foo_loss2[j*train_batch:(j+1)*train_batch] = np.array(criterion(y_pred, one_hot.to(torch.float)).cpu().detach())\r\n",
        "        j=j+1 \r\n",
        "\r\n",
        "    acc = (np.sum(real_label[:] == pred_label[:])*100)/len1\r\n",
        "    model = model.eval()\r\n",
        "\r\n",
        "    # Validation Testing\r\n",
        "    i=0\r\n",
        "    criterions = nn.MSELoss()   \r\n",
        "    foo_loss = np.zeros(len2)\r\n",
        "    pred_label2 =np.zeros((len2,1))\r\n",
        "    real_label_B = np.zeros((len2,1))\r\n",
        "    with torch.no_grad():\r\n",
        "        for batch_idx, (data, labels) in enumerate(valloader):\r\n",
        "            # TODO:\r\n",
        "            # Implement test code\r\n",
        "            y_pred2 = model(data.permute(0,3,1,2))\r\n",
        "            predicted2 = np.array((y_pred2).cpu().detach())\r\n",
        "            one_hot = torch.nn.functional.one_hot(labels.to(torch.int64),13)  \r\n",
        "            pred_foo2 = []\r\n",
        "\r\n",
        "            for row in (predicted2):\r\n",
        "              row = np.array(row)\r\n",
        "              pred_foo2.append(np.argmax(np.array(row)))  \r\n",
        "\r\n",
        "            real_l = np.array(labels[:].unsqueeze(1).cpu().detach())\r\n",
        "            pred_label2[i*test_batch:(i+1)*test_batch,0] = np.array(pred_foo2)\r\n",
        "            real_label_B[i*test_batch:(i+1)*test_batch] = real_l[:]\r\n",
        "            foo_loss[i*test_batch:(i+1)*test_batch] = np.array(criterions(y_pred2, one_hot.to(torch.float)).cpu().detach())\r\n",
        "            i = i + 1\r\n",
        "\r\n",
        "        acc2 = (np.sum(real_label_B[:] == pred_label2[:])*100)/len2\r\n",
        "\r\n",
        "\r\n",
        "    #Trains \r\n",
        "    loss_train[epoch] = np.mean(foo_loss2)\r\n",
        "    loss_valid[epoch] = np.mean(foo_loss)\r\n",
        "    acc_train[epoch] = acc\r\n",
        "    acc_validation[epoch] = acc2\r\n",
        "\r\n",
        "    if least_loss > loss_valid[epoch]:\r\n",
        "      least_loss = loss_valid[epoch]\r\n",
        "      best_model = model\r\n",
        "\r\n",
        "torch.save(best_model, 'best_cnn_sgd.pth')\r\n",
        "    \r\n",
        "\r\n",
        "# plot losses vs epoch \r\n",
        "\r\n",
        "plt.figure()\r\n",
        "plt.plot(range(1,max_epoch+1),loss_train , label='training loss')\r\n",
        "plt.plot(range(1,max_epoch+1),loss_valid, label = 'validation loss')\r\n",
        "plt.legend(loc=\"upper left\")\r\n",
        "\r\n",
        "# plot accuracies vs epoch\r\n",
        "\r\n",
        "plt.figure()\r\n",
        "plt.plot(range(1,max_epoch+1),acc_train, label='training Acc')\r\n",
        "plt.plot(range(1,max_epoch+1),acc_validation, label = 'validation Acc')\r\n",
        "plt.legend(loc=\"upper left\")\r\n"
      ],
      "execution_count": 8,
      "outputs": [
        {
          "output_type": "execute_result",
          "data": {
            "text/plain": [
              "<matplotlib.legend.Legend at 0x7f5e61ae4ef0>"
            ]
          },
          "metadata": {
            "tags": []
          },
          "execution_count": 8
        },
        {
          "output_type": "display_data",
          "data": {
            "image/png": "[encoded data removed]",
            "text/plain": [
              "<Figure size 432x288 with 1 Axes>"
            ]
          },
          "metadata": {
            "tags": [],
            "needs_background": "light"
          }
        },
        {
          "output_type": "display_data",
          "data": {
            "image/png": "[encoded data removed]",
            "text/plain": [
              "<Figure size 432x288 with 1 Axes>"
            ]
          },
          "metadata": {
            "tags": [],
            "needs_background": "light"
          }
        }
      ]
    },
    {
      "cell_type": "markdown",
      "metadata": {
        "id": "bGlkTe9e-VLO"
      },
      "source": [
        "####Test with SGD [15 pts.]\r\n",
        "\r\n",
        "Report the following for your best model on your test set which has not been seen by the model yet.\r\n",
        "1. A heatmap for confusion matrix\r\n",
        "2. Accuracy\r\n",
        "3. Macro Precision\r\n",
        "4. Macro Recall\r\n",
        "5. F1 Score\r\n",
        "\r\n",
        "Then, discuss figures that you have plotted in the previous section, your test results and algorithm complexity with maximum 200 words. Compare two **models**. Which one is more preferable? Why?"
      ]
    },
    {
      "cell_type": "markdown",
      "metadata": {
        "id": "-XRdAyZre6Oe"
      },
      "source": [
        "Discussion:\r\n",
        "For both the models, the accuracies after training with 700 epoch were low, and below expected. The validation loss and Training loss for MLP shows that the model was neither underfitting nor overfitting because there were less discrepancies in the graphs obtained.  \r\n",
        "The less accuracies suggests that the paramters were not correctly guessed for the required problem. \r\n",
        "\r\n",
        "For CNN the algorithm had 4 CONV layers, I used 2 nn.linear layers to reduce the dimensionality of the output to required dimensions. The activation function Softmax reduced the complexity of the model to predict. \r\n",
        "\r\n",
        "After testing MLP and CNN on test-set, it was determined that MLP performed better in terms of loss and accuracy. Both Mean Accuracy and least loss were better in MLP, further the heatmap also showed that the Model was less biased as the division can be seen on the heat map.\r\n",
        "\r\n"
      ]
    },
    {
      "cell_type": "code",
      "metadata": {
        "id": "ZuMo7CbnCP50",
        "colab": {
          "base_uri": "https://localhost:8080/",
          "height": 382
        },
        "outputId": "870d8c8d-b39e-4948-87f5-7d9d138b7045"
      },
      "source": [
        "# Test MLP\r\n",
        "# load best model\r\n",
        "# best_pathur = \"/content/drive/My Drive/.../best_mlp_sgd.pth\"\r\n",
        "best_path = 'best_mlp_sgd.pth'\r\n",
        "model = torch.load(best_path)\r\n",
        "\r\n",
        "# evaluate on test set\r\n",
        "model = model.eval()\r\n",
        "criterions = nn.MSELoss()\r\n",
        "losses = []\r\n",
        "\r\n",
        "#   iterate over test batches\r\n",
        "\r\n",
        "i=0\r\n",
        "criterions = nn.MSELoss()\r\n",
        "foo_loss = np.zeros(len2)\r\n",
        "pred_label2 = []\r\n",
        "real_label_B = []\r\n",
        "\r\n",
        "with torch.no_grad():\r\n",
        "    for batch_idx, (data, labels) in enumerate(test_load_MLP):\r\n",
        "        # TODO:\r\n",
        "        # Implement test code\r\n",
        "        y_pred2 = (model(data))\r\n",
        "        predicted2 = np.array((y_pred2).cpu().detach())\r\n",
        "\r\n",
        "        one_hot = torch.nn.functional.one_hot(labels.to(torch.int64),13)  \r\n",
        "        pred_foo2 = []\r\n",
        "        for row in (predicted2):\r\n",
        "          row = np.array(row)\r\n",
        "          pred_foo2.append(np.argmax(np.array(row)))  \r\n",
        "        real_l = np.array(labels[:].unsqueeze(1).cpu().detach())\r\n",
        "        pred_label2 = pred_label2 + pred_foo2\r\n",
        "        real_label_B = real_label_B +  real_l.tolist()\r\n",
        "   \r\n",
        "        foo_loss[i*test_batch:(i+1)*test_batch] = np.array(criterions(y_pred2, one_hot.to(torch.float)).cpu().detach())\r\n",
        "        i = i + 1\r\n",
        "\r\n",
        "losses =np.mean(foo_loss)\r\n",
        "#   get confusion matrix\r\n",
        "conf_matrix = confusion_matrix(real_label_B, pred_label2)\r\n",
        "#   calculate accuracy\r\n",
        "accuracy = accuracy_score(real_label_B, pred_label2)\r\n",
        "#   calculate precision\r\n",
        "pre = precision_score(real_label_B, pred_label2, average= 'macro')\r\n",
        "#   calculate recall\r\n",
        "recall = recall_score(real_label_B, pred_label2, average= 'macro')\r\n",
        "#   calculate F1 score\r\n",
        "f1 = f1_score(real_label_B, pred_label2, average= 'macro')\r\n",
        "\r\n",
        "# print metrics\r\n",
        "print(\"Mean Loss:\", losses, \"\\nMean Acc:\", acc,\"\\nMean Macro Precision:\", pre, \"\\nMean Macro Recall:\", recall, \"\\nMean Macro F1 Score:\", f1) \r\n",
        "\r\n",
        "# plot confusion matrix\r\n",
        "fig, ax = plt.subplots()\r\n",
        "im = ax.imshow(conf_matrix)\r\n",
        "# We want to show all ticks...\r\n",
        "ax.set_xticks(np.arange(13))\r\n",
        "ax.set_yticks(np.arange(13))\r\n",
        "\r\n",
        "fig.tight_layout()\r\n",
        "plt.show()"
      ],
      "execution_count": 21,
      "outputs": [
        {
          "output_type": "stream",
          "text": [
            "Mean Loss: 0.06994852457699924 \n",
            "Mean Acc: 14.948153326342771 \n",
            "Mean Macro Precision: 0.10451884507169132 \n",
            "Mean Macro Recall: 0.1420994687058846 \n",
            "Mean Macro F1 Score: 0.09537083011940589\n"
          ],
          "name": "stdout"
        },
        {
          "output_type": "display_data",
          "data": {
            "image/png": "[encoded data removed]",
            "text/plain": [
              "<Figure size 432x288 with 1 Axes>"
            ]
          },
          "metadata": {
            "tags": [],
            "needs_background": "light"
          }
        }
      ]
    },
    {
      "cell_type": "code",
      "metadata": {
        "id": "LNc_qjAECN9V",
        "colab": {
          "base_uri": "https://localhost:8080/",
          "height": 436
        },
        "outputId": "f68a52a5-0161-47e6-a1b7-05e306baa013"
      },
      "source": [
        "# Test CNN\r\n",
        "# load best model\r\n",
        "# best_path = \"/content/drive/My Drive/.../best_cnn_sgd.pth\"\r\n",
        "\r\n",
        "best_path = 'best_cnn_sgd.pth'\r\n",
        "model = torch.load(best_path)\r\n",
        "\r\n",
        "# evaluate on test set\r\n",
        "model = model.eval()\r\n",
        "criterions = nn.MSELoss()\r\n",
        "losses = []\r\n",
        "\r\n",
        "#   iterate over test batches\r\n",
        "\r\n",
        "i=0\r\n",
        "criterions = nn.MSELoss()\r\n",
        "foo_loss = np.zeros(len2)\r\n",
        "pred_label2 = []\r\n",
        "real_label_B = []\r\n",
        "\r\n",
        "with torch.no_grad():\r\n",
        "    for batch_idx, (data, labels) in enumerate(teat_load):\r\n",
        "        # TODO:\r\n",
        "        # Implement test code\r\n",
        "        y_pred2 = model(data.permute(0,3,1,2))\r\n",
        "        predicted2 = np.array((y_pred2).cpu().detach())\r\n",
        "        one_hot = torch.nn.functional.one_hot(labels.to(torch.int64),13) \r\n",
        "\r\n",
        "        pred_foo2 = []\r\n",
        "        for row in (predicted2):\r\n",
        "          row = np.array(row)\r\n",
        "          pred_foo2.append(np.argmax(np.array(row)))  \r\n",
        "        real_l = np.array(labels[:].unsqueeze(1).cpu().detach())\r\n",
        "        pred_label2 = pred_label2 + pred_foo2\r\n",
        "        real_label_B = real_label_B +  real_l.tolist()\r\n",
        "   \r\n",
        "        foo_loss[i*test_batch:(i+1)*test_batch] = np.array(criterions(y_pred2,one_hot.to(torch.float)).cpu().detach())\r\n",
        "        i = i + 1\r\n",
        "\r\n",
        "losses =np.mean(foo_loss)\r\n",
        "#   get confusion matrix\r\n",
        "conf_matrix = confusion_matrix(real_label_B, pred_label2)\r\n",
        "#   calculate accuracy\r\n",
        "accuracy = accuracy_score(real_label_B, pred_label2)\r\n",
        "#   calculate precision\r\n",
        "pre = precision_score(real_label_B, pred_label2, average= 'macro')\r\n",
        "#   calculate recall\r\n",
        "recall = recall_score(real_label_B, pred_label2, average= 'macro')\r\n",
        "#   calculate F1 score\r\n",
        "f1 = f1_score(real_label_B, pred_label2, average= 'macro')\r\n",
        "\r\n",
        "# print metrics\r\n",
        "print(\"Mean Loss:\", losses, \"\\nMean Acc:\", acc,\"\\nMean Macro Precision:\", pre, \"\\nMean Macro Recall:\", recall, \"\\nMean Macro F1 Score:\", f1) \r\n",
        "\r\n",
        "# plot confusion matrix\r\n",
        "fig, ax = plt.subplots()\r\n",
        "im = ax.imshow(conf_matrix)\r\n",
        "# We want to show all ticks...\r\n",
        "ax.set_xticks(np.arange(13))\r\n",
        "ax.set_yticks(np.arange(13))\r\n",
        "\r\n",
        "fig.tight_layout()\r\n",
        "plt.show()"
      ],
      "execution_count": 9,
      "outputs": [
        {
          "output_type": "stream",
          "text": [
            "/usr/local/lib/python3.6/dist-packages/sklearn/metrics/_classification.py:1272: UndefinedMetricWarning: Precision is ill-defined and being set to 0.0 in labels with no predicted samples. Use `zero_division` parameter to control this behavior.\n",
            "  _warn_prf(average, modifier, msg_start, len(result))\n"
          ],
          "name": "stderr"
        },
        {
          "output_type": "stream",
          "text": [
            "Mean Loss: 0.07099634120894101 \n",
            "Mean Acc: 9.577070954211814 \n",
            "Mean Macro Precision: 0.026513149374479798 \n",
            "Mean Macro Recall: 0.09026866881002617 \n",
            "Mean Macro F1 Score: 0.03254889761833437\n"
          ],
          "name": "stdout"
        },
        {
          "output_type": "display_data",
          "data": {
            "image/png": "[encoded data removed]",
            "text/plain": [
              "<Figure size 432x288 with 1 Axes>"
            ]
          },
          "metadata": {
            "tags": [],
            "needs_background": "light"
          }
        }
      ]
    },
    {
      "cell_type": "markdown",
      "metadata": {
        "id": "N3L2zjEN_tZf"
      },
      "source": [
        "###Adam Optimizer [35 pts.]\r\n",
        "\r\n",
        "Adam is an adaptive learning rate optimization algorithm that has been designed specifically for training deep neural networks. It was presented by Diederik Kingma from OpenAI and Jimmy Ba from the University of Toronto in their 2015 ICLR paper (poster) titled “Adam: A Method for Stochastic Optimization“.\r\n",
        "\r\n",
        "Nowadays, most of machine learning frameworks, including tensorflow, Pytorch, and Keras, choose Adam as the default optimizer. In this question, you will experiment with it and try to understand why it replaced SGD as the default optimizer."
      ]
    },
    {
      "cell_type": "markdown",
      "metadata": {
        "id": "jOQ75RHP-Fdn"
      },
      "source": [
        "####Training with ADAM [20 pts.]\r\n",
        "\r\n",
        "Train both models up to 700 epochs with properly processed inputs, i.e. call your \"get_dataset\" function in mode \"1\" for MLP and mode \"2\" for CNN. This time use Adam Optimizer as your optimizer. Tune your learning rate, weight decay. Save your best models, i.e. MLP and CNN models with highest performance, as \"best_mlp_adam.pth\" and \"best_cnn_adam.pth\". The best model decision is up to you. You could use any measurement and/or metric to decide on the best model for each network. However, you must explain your reasoning in your choice.\r\n",
        "\r\n",
        "During training, you need to plot two figures for each model:\r\n",
        "1. training loss and validation loss vs. epoch\r\n",
        "2. validation acuracy and validation accuracy vs. epoch <br>\r\n",
        "\r\n",
        "Name your axes and plots properly."
      ]
    },
    {
      "cell_type": "code",
      "metadata": {
        "id": "ZseK2xlrCPLb",
        "colab": {
          "base_uri": "https://localhost:8080/",
          "height": 530
        },
        "outputId": "4dbc06dc-9de5-443c-eacf-f2ccff729aae"
      },
      "source": [
        "# HINT: note that your training time should not take many days.\r\n",
        "\r\n",
        "# Pick your hyper parameters\r\n",
        "max_epoch = 700\r\n",
        "train_batch = 32   \r\n",
        "test_batch = 64\r\n",
        "learning_rate = 0.005\r\n",
        "\r\n",
        "\r\n",
        "\r\n",
        "use_gpu = torch.cuda.is_available()\r\n",
        "\r\n",
        "imgs2, labels2 = get_dataset(\"data\", 1)\r\n",
        "len = np.array(labels2).shape[0]\r\n",
        "\r\n",
        "# Create train dataset loader\r\n",
        "train_dataset_MLP = CatsDataset(dataset = imgs2[0:int(len*0.7)],labels =labels2[0:int(len*0.7)])\r\n",
        "trainloader_MLP = DataLoader(train_dataset_MLP, batch_size=train_batch)\r\n",
        "# Create validation dataset loader\r\n",
        "val_dataset_MLP = CatsDataset(imgs2[int(len*0.7):int(len*0.8)],labels2[int(len*0.7):int(len*0.8)])\r\n",
        "valloader_MLP = DataLoader(val_dataset_MLP, batch_size=test_batch)\r\n",
        "# Create test dataset loader\r\n",
        "test_dataset_MLP = CatsDataset(imgs2[int(len*0.8):],labels2[int(len*0.8):])\r\n",
        "test_load_MLP = DataLoader(test_dataset_MLP, batch_size = test_batch )\r\n",
        "\r\n",
        "model = FNet(4096,13) \r\n",
        "if use_gpu:\r\n",
        "  model.cuda()\r\n",
        "\r\n",
        "# define your loss function\r\n",
        "criterions = nn.BCEWithLogitsLoss ()    \r\n",
        "optimizer = torch.optim.Adam(model.parameters(), lr=learning_rate, weight_decay=5e-03) # you can play with  weight_decay as well\r\n",
        "    \r\n",
        "len1 = train_dataset_MLP.__len__()\r\n",
        "len2 = val_dataset_MLP.__len__()\r\n",
        "\r\n",
        "least_loss = 100\r\n",
        "loss_train = np.zeros(max_epoch) \r\n",
        "loss_valid = np.zeros(max_epoch)\r\n",
        "acc_train = np.zeros(max_epoch)\r\n",
        "acc_validation = np.zeros(max_epoch)\r\n",
        "\r\n",
        "\r\n",
        "for epoch in range(max_epoch):\r\n",
        "    model = model.train()\r\n",
        "    j=0\r\n",
        "    foo_loss2 = np.zeros(len1)\r\n",
        "    pred_label= np.zeros((len1,1))\r\n",
        "    real_label = np.zeros((len1,1))\r\n",
        "\r\n",
        "    for batch_idx, (data, labels) in enumerate(trainloader_MLP):\r\n",
        "        # TODO:\r\n",
        "        # Implement training code for a one iteration\r\n",
        "        if use_gpu:\r\n",
        "          data = data.cuda()\r\n",
        "        optimizer.zero_grad()\r\n",
        "        y_pred = model(data)\r\n",
        "        one_hot = torch.nn.functional.one_hot(labels.to(torch.int64),13) \r\n",
        "        loss  = criterion(y_pred,one_hot.to(torch.float))\r\n",
        "        loss.backward()\r\n",
        "        optimizer.step()\r\n",
        "        predicted = np.array((y_pred).cpu().detach())\r\n",
        "\r\n",
        "        pred_foo = []\r\n",
        "        for row in (predicted):\r\n",
        "          row = np.array(row)\r\n",
        "          pred_foo.append(np.argmax(np.array(row)))  \r\n",
        "\r\n",
        "        actual_l = np.array(labels[:].unsqueeze(1).cpu().detach())\r\n",
        "        losses = np.mean(np.array(loss.cpu().detach()))\r\n",
        "        pred_label[j*train_batch:(j+1)*train_batch,0] = pred_foo\r\n",
        "        real_label[j*train_batch:(j+1)*train_batch] = actual_l[:]\r\n",
        "        foo_loss2[j*train_batch:(j+1)*train_batch] = np.array(criterion(y_pred, one_hot.to(torch.float)).cpu().detach())\r\n",
        "        j=j+1 \r\n",
        "\r\n",
        "    acc = (np.sum(real_label[:] == pred_label[:])*100)/len1\r\n",
        "    model = model.eval()\r\n",
        "\r\n",
        "    # Validation Testing\r\n",
        "    i=0\r\n",
        "    criterions = nn.BCEWithLogitsLoss ()    \r\n",
        "    foo_loss = np.zeros(len2)\r\n",
        "    pred_label2 =np.zeros((len2,1))\r\n",
        "    real_label_B = np.zeros((len2,1))\r\n",
        "\r\n",
        "    with torch.no_grad():\r\n",
        "        for batch_idx, (data, labels) in enumerate(valloader_MLP):\r\n",
        "            # TODO:\r\n",
        "            # Implement test code\r\n",
        "            y_pred2 = model(data)\r\n",
        "            predicted2 = np.array((y_pred2).cpu().detach())\r\n",
        "            one_hot = torch.nn.functional.one_hot(labels.to(torch.int64),13)  \r\n",
        "            pred_foo2 = []\r\n",
        "\r\n",
        "            for row in (predicted2):\r\n",
        "              row = np.array(row)\r\n",
        "              pred_foo2.append(np.argmax(np.array(row)))  \r\n",
        "\r\n",
        "            real_l = np.array(labels[:].unsqueeze(1).cpu().detach())\r\n",
        "            pred_label2[i*test_batch:(i+1)*test_batch,0] = np.array(pred_foo2)\r\n",
        "            real_label_B[i*test_batch:(i+1)*test_batch] = real_l[:]\r\n",
        "            foo_loss[i*test_batch:(i+1)*test_batch] = np.array(criterions(y_pred2, one_hot.to(torch.float)).cpu().detach())\r\n",
        "            i = i + 1\r\n",
        "\r\n",
        "        acc2 = (np.sum(real_label_B[:] == pred_label2[:])*100)/len2\r\n",
        "\r\n",
        "    #Trains \r\n",
        "     \r\n",
        "    loss_train[epoch] = np.mean(foo_loss2)\r\n",
        "    loss_valid[epoch] = np.mean(foo_loss)\r\n",
        "    acc_train[epoch] = acc\r\n",
        "    acc_validation[epoch] = acc2\r\n",
        "\r\n",
        "    if least_loss > loss_valid[epoch]:\r\n",
        "      best_acc = acc2\r\n",
        "      least_loss = loss_valid[epoch]\r\n",
        "      best_model = model\r\n",
        "\r\n",
        "torch.save(best_model, 'best_mlp_adam.pth')\r\n",
        "    \r\n",
        "    \r\n",
        "# plot losses vs epoch \r\n",
        "\r\n",
        "\r\n",
        "plt.figure()\r\n",
        "plt.plot(range(1,max_epoch+1),loss_train , label='training loss')\r\n",
        "plt.plot(range(1,max_epoch+1),loss_valid, label = 'validation loss')\r\n",
        "plt.legend(loc=\"upper left\")\r\n",
        "\r\n",
        "# plot accuracies vs epoch\r\n",
        "\r\n",
        "plt.figure()\r\n",
        "plt.plot(range(1,max_epoch+1),acc_train, label='training Acc')\r\n",
        "plt.plot(range(1,max_epoch+1),acc_validation, label = 'validation Acc')\r\n",
        "plt.legend(loc=\"upper left\")\r\n"
      ],
      "execution_count": 10,
      "outputs": [
        {
          "output_type": "execute_result",
          "data": {
            "text/plain": [
              "<matplotlib.legend.Legend at 0x7f5e61285e10>"
            ]
          },
          "metadata": {
            "tags": []
          },
          "execution_count": 10
        },
        {
          "output_type": "display_data",
          "data": {
            "image/png": "[encoded data removed]",
            "text/plain": [
              "<Figure size 432x288 with 1 Axes>"
            ]
          },
          "metadata": {
            "tags": [],
            "needs_background": "light"
          }
        },
        {
          "output_type": "display_data",
          "data": {
            "image/png": "[encoded data removed]",
            "text/plain": [
              "<Figure size 432x288 with 1 Axes>"
            ]
          },
          "metadata": {
            "tags": [],
            "needs_background": "light"
          }
        }
      ]
    },
    {
      "cell_type": "code",
      "metadata": {
        "colab": {
          "base_uri": "https://localhost:8080/",
          "height": 541
        },
        "id": "M6IbZ8em_RRW",
        "outputId": "c3213797-a3ec-4337-96d5-2198dac82fff"
      },
      "source": [
        "# TODO:\r\n",
        "# Pick your hyper parameters\r\n",
        "max_epoch = 700\r\n",
        "train_batch = 32\r\n",
        "test_batch = 64\r\n",
        "learning_rate = 0.009\r\n",
        "\r\n",
        "use_gpu = torch.cuda.is_available()\r\n",
        "\r\n",
        "imgs2, labels2 = get_dataset(\"data\", 2)\r\n",
        "len = np.array(labels2).shape[0]\r\n",
        "\r\n",
        "# Create train dataset loader\r\n",
        "train_dataset_L = CatsDataset(dataset = imgs2[0:int(len*0.7)],labels =labels2[0:int(len*0.7)])\r\n",
        "trainloader = DataLoader(train_dataset_L, batch_size=train_batch)\r\n",
        "\r\n",
        "# Create validation dataset loader\r\n",
        "val_dataset_L = CatsDataset(imgs2[int(len*0.7):int(len*0.8)],labels2[int(len*0.7):int(len*0.8)])\r\n",
        "valloader = DataLoader(val_dataset_L, batch_size=test_batch)\r\n",
        "# Create test dataset loader\r\n",
        "test_dataset_L = CatsDataset(imgs2[int(len*0.8):],labels2[int(len*0.8):])\r\n",
        "teat_load = DataLoader(test_dataset_L, batch_size=test_batch)\r\n",
        "\r\n",
        "model = ConvNet()\r\n",
        "if use_gpu:\r\n",
        "  model.cuda()\r\n",
        "\r\n",
        "# # define your loss function\r\n",
        "criterion = nn.MSELoss()   \r\n",
        "optimizer = torch.optim.Adam(model.parameters(), lr=learning_rate, weight_decay=5e-03) # you can play with  weight_decay as well\r\n",
        "\r\n",
        "len1 = train_dataset_L.__len__()\r\n",
        "len2 = val_dataset_L.__len__()\r\n",
        "\r\n",
        "least_loss = 100\r\n",
        "loss_train = np.zeros(max_epoch) \r\n",
        "loss_valid = np.zeros(max_epoch)\r\n",
        "acc_train = np.zeros(max_epoch)\r\n",
        "acc_validation = np.zeros(max_epoch)\r\n",
        "\r\n",
        "\r\n",
        "\r\n",
        "for epoch in range(max_epoch):\r\n",
        "    model = model.train()\r\n",
        "    j=0\r\n",
        "    foo_loss2 = np.zeros(len1)\r\n",
        "    pred_label= np.zeros((len1,1))\r\n",
        "    real_label = np.zeros((len1,1))\r\n",
        "\r\n",
        "    for batch_idx, (data, labels) in enumerate(trainloader):\r\n",
        "        # TODO:\r\n",
        "        # Implement training code for a one iteration\r\n",
        "        if use_gpu:\r\n",
        "          data = data.cuda()\r\n",
        "        optimizer.zero_grad()\r\n",
        "        y_pred = model(data.permute(0,3,1,2))\r\n",
        "        one_hot = torch.nn.functional.one_hot(labels.to(torch.int64),13) \r\n",
        "        loss  = criterion(y_pred,one_hot.to(torch.float))\r\n",
        "        loss.backward()\r\n",
        "        optimizer.step()\r\n",
        "        predicted = np.array((y_pred).cpu().detach())\r\n",
        "        pred_foo = []\r\n",
        "\r\n",
        "        for row in (predicted):\r\n",
        "          row = np.array(row)\r\n",
        "          pred_foo.append(np.argmax(np.array(row)))  \r\n",
        "\r\n",
        "        actual_l = np.array(labels[:].unsqueeze(1).cpu().detach())\r\n",
        "        losses = np.mean(np.array(loss.cpu().detach()))\r\n",
        "        pred_label[j*train_batch:(j+1)*train_batch,0] = pred_foo\r\n",
        "        real_label[j*train_batch:(j+1)*train_batch] = actual_l[:]\r\n",
        "        foo_loss2[j*train_batch:(j+1)*train_batch] = np.array(criterion(y_pred,one_hot.to(torch.float)).cpu().detach())\r\n",
        "        j=j+1 \r\n",
        "\r\n",
        "    acc = (np.sum(real_label[:,0]==pred_label[:,0])*100)/len1\r\n",
        "    model = model.eval()\r\n",
        "    acc2 = []\r\n",
        "    # Validation Testing\r\n",
        "    i=0\r\n",
        "    criterions = nn.MSELoss()\r\n",
        "    foo_loss = np.zeros(len2)\r\n",
        "    pred_label2 =np.zeros((len2,1))\r\n",
        "    real_label_B = np.zeros((len2,1))\r\n",
        "\r\n",
        "    with torch.no_grad():\r\n",
        "        for batch_idx, (data, labels) in enumerate(valloader):\r\n",
        "            # TODO:\r\n",
        "            # Implement test code\r\n",
        "            y_pred2 = model(data.permute(0,3,1,2))\r\n",
        "            predicted2 = np.array((y_pred2).cpu().detach())\r\n",
        "            one_hot = torch.nn.functional.one_hot(labels.to(torch.int64),13)  \r\n",
        "            pred_foo2 = []\r\n",
        "\r\n",
        "            for row in (predicted2):\r\n",
        "              row = np.array(row)\r\n",
        "              pred_foo2.append(np.argmax(np.array(row)))  \r\n",
        "\r\n",
        "            real_l = np.array(labels[:].unsqueeze(1).cpu().detach())\r\n",
        "            pred_label2[i*test_batch:(i+1)*test_batch,0] = np.array(pred_foo2)\r\n",
        "            real_label_B[i*test_batch:(i+1)*test_batch] = real_l[:]\r\n",
        "            foo_loss[i*test_batch:(i+1)*test_batch] = np.array(criterions(y_pred2, one_hot.to(torch.float)).cpu().detach())\r\n",
        "            i = i + 1\r\n",
        "\r\n",
        "        acc2 = (np.sum(real_label_B[:] == pred_label2[:])*100)/len2\r\n",
        "    #Trains \r\n",
        "     \r\n",
        "    loss_train[epoch] = np.mean(foo_loss2)\r\n",
        "    loss_valid[epoch] = np.mean(foo_loss)\r\n",
        "    acc_train[epoch] = acc\r\n",
        "    acc_validation[epoch] = acc2\r\n",
        "\r\n",
        "    if least_loss > loss_valid[epoch]:\r\n",
        "      best_acc = acc2\r\n",
        "      least_loss = loss_valid[epoch]\r\n",
        "      best_model = model\r\n",
        "\r\n",
        "torch.save(best_model, 'best_cnn_adam.pth')\r\n",
        "    \r\n",
        "# plot losses vs epoch \r\n",
        "\r\n",
        "\r\n",
        "plt.figure()\r\n",
        "plt.plot(range(1,max_epoch+1),loss_train , label='training loss')\r\n",
        "plt.plot(range(1,max_epoch+1),loss_valid, label = 'validation loss')\r\n",
        "plt.legend(loc=\"upper left\")\r\n",
        "\r\n",
        "# plot accuracies vs epoch\r\n",
        "\r\n",
        "plt.figure()\r\n",
        "plt.plot(range(1,max_epoch+1),acc_train, label='training Acc')\r\n",
        "plt.plot(range(1,max_epoch+1),acc_validation, label = 'validation Acc')\r\n",
        "plt.legend(loc=\"upper left\")\r\n"
      ],
      "execution_count": null,
      "outputs": [
        {
          "output_type": "execute_result",
          "data": {
            "text/plain": [
              "<matplotlib.legend.Legend at 0x7fa0b6d7e898>"
            ]
          },
          "metadata": {
            "tags": []
          },
          "execution_count": 5
        },
        {
          "output_type": "display_data",
          "data": {
            "image/png": "[encoded data removed]",
            "text/plain": [
              "<Figure size 432x288 with 1 Axes>"
            ]
          },
          "metadata": {
            "tags": [],
            "needs_background": "light"
          }
        },
        {
          "output_type": "display_data",
          "data": {
            "image/png": "[encoded data removed]",
            "text/plain": [
              "<Figure size 432x288 with 1 Axes>"
            ]
          },
          "metadata": {
            "tags": [],
            "needs_background": "light"
          }
        }
      ]
    },
    {
      "cell_type": "markdown",
      "metadata": {
        "id": "0iozVeXZAXiH"
      },
      "source": [
        "####Test with ADAM [15 pts.]\r\n",
        "\r\n",
        "Report the following for your best model on your test set which has not been seen by the model yet.\r\n",
        "1. A heatmap for confusion matrix\r\n",
        "2. Accuracy\r\n",
        "3. Macro Precision\r\n",
        "4. Macro Recall\r\n",
        "5. F1 Score\r\n",
        "\r\n",
        "Then, discuss figures that you have plotted in the previous section, your test results and algorithm complexity with maximum 200 words. Compare two **optimizers**. Which one is more preferable? Why?"
      ]
    },
    {
      "cell_type": "markdown",
      "metadata": {
        "id": "7WTi72pqh2VH"
      },
      "source": [
        "Discussion:\r\n",
        "In this part instead of the SGD optimizer, ADAM was used, after experimenting with the parameters I decided, the parameters ADAM_MLP and ADAM_CNN. The loss function most that seems to be most compatible with ADAM optimizer, was known to be 'nn.BCEWithLogitsLoss'. I used this loss function for ADAM_MLP, similar to the previous SGD, the max accuracies were similar and noticable changes were not abserved. However it was noticed that there was varying fluctuation, on the graphs abtained for ADAM_MLP. This suggests that, the weight decay, was not upto the mark, the training and validation loss of ADAM for both models show, serious underfitting. \r\n",
        "To overcome this a penalty factor was added by increasing the weight decay, so the more normalized model canbe obtained.\r\n",
        "\r\n",
        "\r\n",
        "The heat graph for CNN_ADAM shows the biasness of the model, for the class 3 and 4. This biasness can be a cause of inaccurate shuffling or, data mismanagement.\r\n"
      ]
    },
    {
      "cell_type": "code",
      "metadata": {
        "id": "yMj89kUtCR0F",
        "colab": {
          "base_uri": "https://localhost:8080/",
          "height": 436
        },
        "outputId": "6a9407d8-dd29-4f75-bba6-7631e74622b9"
      },
      "source": [
        "# Test MLP\r\n",
        "# load best model\r\n",
        "# best_path = \"/content/drive/My Drive/.../best_mlp_adam.pth\"\r\n",
        "\r\n",
        "best_path = 'best_mlp_adam.pth'\r\n",
        "model = torch.load(best_path)\r\n",
        "\r\n",
        "# evaluate on test set\r\n",
        "model = model.eval()\r\n",
        "criterions = nn.MSELoss()\r\n",
        "losses = []\r\n",
        "\r\n",
        "#   iterate over test batches\r\n",
        "\r\n",
        "i=0\r\n",
        "criterions = nn.MSELoss()\r\n",
        "foo_loss = np.zeros(len2)\r\n",
        "pred_label2 = []\r\n",
        "real_label_B = []\r\n",
        "\r\n",
        "with torch.no_grad():\r\n",
        "    for batch_idx, (data, labels) in enumerate(test_load_MLP):\r\n",
        "        # TODO:\r\n",
        "        # Implement test code\r\n",
        "        y_pred2 = (model(data))\r\n",
        "        predicted2 = np.array((y_pred2).cpu().detach())\r\n",
        "        one_hot = torch.nn.functional.one_hot(labels.to(torch.int64),13) \r\n",
        "\r\n",
        "        pred_foo2 = []\r\n",
        "        for row in (predicted2):\r\n",
        "          row = np.array(row)\r\n",
        "          pred_foo2.append(np.argmax(np.array(row)))  \r\n",
        "        real_l = np.array(labels[:].unsqueeze(1).cpu().detach())\r\n",
        "        pred_label2 = pred_label2 + pred_foo2\r\n",
        "        real_label_B = real_label_B +  real_l.tolist()\r\n",
        "   \r\n",
        "        foo_loss[i*test_batch:(i+1)*test_batch] = np.array(criterions(y_pred2 , one_hot.to(torch.float)).cpu().detach())\r\n",
        "        i = i + 1\r\n",
        "\r\n",
        "losses =np.mean(foo_loss)\r\n",
        "#   get confusion matrix\r\n",
        "conf_matrix = confusion_matrix(real_label_B, pred_label2)\r\n",
        "#   calculate accuracy\r\n",
        "accuracy = accuracy_score(real_label_B, pred_label2)\r\n",
        "#   calculate precision\r\n",
        "pre = precision_score(real_label_B, pred_label2, average= 'macro')\r\n",
        "#   calculate recall\r\n",
        "recall = recall_score(real_label_B, pred_label2, average= 'macro')\r\n",
        "#   calculate F1 score\r\n",
        "f1 = f1_score(real_label_B, pred_label2, average= 'macro')\r\n",
        "\r\n",
        "# print metrics\r\n",
        "print(\"Mean Loss:\", losses, \"\\nMean Acc:\", acc,\"\\nMean Macro Precision:\", pre, \"\\nMean Macro Recall:\", recall, \"\\nMean Macro F1 Score:\", f1) \r\n",
        "\r\n",
        "# plot confusion matrix\r\n",
        "fig, ax = plt.subplots()\r\n",
        "im = ax.imshow(conf_matrix)\r\n",
        "# We want to show all ticks...\r\n",
        "ax.set_xticks(np.arange(13))\r\n",
        "ax.set_yticks(np.arange(13))\r\n",
        "\r\n",
        "fig.tight_layout()\r\n",
        "plt.show()\r\n"
      ],
      "execution_count": 11,
      "outputs": [
        {
          "output_type": "stream",
          "text": [
            "Mean Loss: 0.07100664261503671 \n",
            "Mean Acc: 7.800302924385413 \n",
            "Mean Macro Precision: 0.00561436524739277 \n",
            "Mean Macro Recall: 0.07692307692307693 \n",
            "Mean Macro F1 Score: 0.010464929332495359\n"
          ],
          "name": "stdout"
        },
        {
          "output_type": "stream",
          "text": [
            "/usr/local/lib/python3.6/dist-packages/sklearn/metrics/_classification.py:1272: UndefinedMetricWarning: Precision is ill-defined and being set to 0.0 in labels with no predicted samples. Use `zero_division` parameter to control this behavior.\n",
            "  _warn_prf(average, modifier, msg_start, len(result))\n"
          ],
          "name": "stderr"
        },
        {
          "output_type": "display_data",
          "data": {
            "image/png": "[encoded data removed]",
            "text/plain": [
              "<Figure size 432x288 with 1 Axes>"
            ]
          },
          "metadata": {
            "tags": [],
            "needs_background": "light"
          }
        }
      ]
    },
    {
      "cell_type": "code",
      "metadata": {
        "id": "_t27l0hN9FqS",
        "colab": {
          "base_uri": "https://localhost:8080/",
          "height": 436
        },
        "outputId": "7f5bc634-12da-4d2b-d5c9-672afb856b98"
      },
      "source": [
        "# Test CNN\r\n",
        "best_path = 'best_cnn_adam.pth'\r\n",
        "model = torch.load(best_path)\r\n",
        "\r\n",
        "# evaluate on test set\r\n",
        "model = model.eval()\r\n",
        "criterions = nn.MSELoss()\r\n",
        "losses = []\r\n",
        "\r\n",
        "#   iterate over test batches\r\n",
        "\r\n",
        "i=0\r\n",
        "criterions = nn.MSELoss()\r\n",
        "foo_loss = np.zeros(len2)\r\n",
        "pred_label2 = []\r\n",
        "real_label_B = []\r\n",
        "\r\n",
        "with torch.no_grad():\r\n",
        "    for batch_idx, (data, labels) in enumerate(teat_load):\r\n",
        "        # TODO:\r\n",
        "        # Implement test code\r\n",
        "        y_pred2 = model(data.permute(0,3,1,2))\r\n",
        "        predicted2 = np.array((y_pred2).cpu().detach())\r\n",
        "        one_hot = torch.nn.functional.one_hot(labels.to(torch.int64),13) \r\n",
        "\r\n",
        "        pred_foo2 = []\r\n",
        "        for row in (predicted2):\r\n",
        "          row = np.array(row)\r\n",
        "          pred_foo2.append(np.argmax(np.array(row)))  \r\n",
        "\r\n",
        "        real_l = np.array(labels[:].unsqueeze(1).cpu().detach())\r\n",
        "        pred_label2 = pred_label2 + pred_foo2\r\n",
        "        real_label_B = real_label_B +  real_l.tolist()\r\n",
        "   \r\n",
        "        foo_loss[i*test_batch:(i+1)*test_batch] = np.array(criterions(y_pred2 , one_hot.to(torch.float)).cpu().detach())\r\n",
        "        i = i + 1\r\n",
        "\r\n",
        "losses =np.mean(foo_loss)\r\n",
        "#   get confusion matrix\r\n",
        "conf_matrix = confusion_matrix(real_label_B, pred_label2)\r\n",
        "#   calculate accuracy\r\n",
        "accuracy = accuracy_score(real_label_B, pred_label2)\r\n",
        "#   calculate precision\r\n",
        "pre = precision_score(real_label_B, pred_label2, average= 'macro')\r\n",
        "#   calculate recall\r\n",
        "recall = recall_score(real_label_B, pred_label2, average= 'macro')\r\n",
        "#   calculate F1 score\r\n",
        "f1 = f1_score(real_label_B, pred_label2, average= 'macro')\r\n",
        "\r\n",
        "# print metrics\r\n",
        "print(\"Mean Loss:\", losses, \"\\nMean Acc:\", acc,\"\\nMean Macro Precision:\", pre, \"\\nMean Macro Recall:\", recall, \"\\nMean Macro F1 Score:\", f1) \r\n",
        "\r\n",
        "# plot confusion matrix\r\n",
        "fig, ax = plt.subplots()\r\n",
        "im = ax.imshow(conf_matrix)\r\n",
        "# We want to show all ticks...\r\n",
        "ax.set_xticks(np.arange(13))\r\n",
        "ax.set_yticks(np.arange(13))\r\n",
        "\r\n",
        "fig.tight_layout()\r\n",
        "plt.show()"
      ],
      "execution_count": 23,
      "outputs": [
        {
          "output_type": "stream",
          "text": [
            "/usr/local/lib/python3.6/dist-packages/sklearn/metrics/_classification.py:1272: UndefinedMetricWarning: Precision is ill-defined and being set to 0.0 in labels with no predicted samples. Use `zero_division` parameter to control this behavior.\n",
            "  _warn_prf(average, modifier, msg_start, len(result))\n"
          ],
          "name": "stderr"
        },
        {
          "output_type": "stream",
          "text": [
            "Mean Loss: 0.07107435836537239 \n",
            "Mean Acc: 7.771175579634161 \n",
            "Mean Macro Precision: 0.006084842782090488 \n",
            "Mean Macro Recall: 0.07692307692307693 \n",
            "Mean Macro F1 Score: 0.011277594500719383\n"
          ],
          "name": "stdout"
        },
        {
          "output_type": "display_data",
          "data": {
            "image/png": "[encoded data removed]",
            "text/plain": [
              "<Figure size 432x288 with 1 Axes>"
            ]
          },
          "metadata": {
            "tags": [],
            "needs_background": "light"
          }
        }
      ]
    }
  ]
}